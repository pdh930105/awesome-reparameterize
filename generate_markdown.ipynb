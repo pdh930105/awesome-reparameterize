{
 "cells": [
  {
   "cell_type": "markdown",
   "metadata": {},
   "source": [
    "### Semi-automatically generate markdown format using bibtex information\n",
    "\n",
    "**This code saves the information in the bibtex in dictionary format. (year, conference, author)**\n"
   ]
  },
  {
   "cell_type": "code",
   "execution_count": 173,
   "metadata": {},
   "outputs": [],
   "source": [
    "# base code : https://github.com/horseee/Awesome-Efficient-LLM/blob/main/generate_item.py\n",
    "\n",
    "from pybtex.database.input import bibtex\n",
    "from pprint import pprint"
   ]
  },
  {
   "cell_type": "code",
   "execution_count": 130,
   "metadata": {},
   "outputs": [],
   "source": [
    "CONFERENCE_DICTS= {\n",
    "    'International Conference on Learning Representations': 'ICLR',\n",
    "    'International Conference on Machine Learning': 'ICML',\n",
    "    'Neural Information Processing Systems': 'NeurIPS',\n",
    "    'International Conference on Computer Vision': 'ICCV',\n",
    "    'European Conference on Computer Vision': 'ECCV',\n",
    "    'Winter Conference on Applications of Computer Vision': 'WACV',\n",
    "    'British Machine Vision Conference': 'BMVC',\n",
    "    'IEEE/CVF Conference on Computer Vision and Pattern Recognition': 'CVPR',\n",
    "    'International Joint Conferences on Artificial Intelligence': 'IJCAI',\n",
    "    'About the Association for the Advancement of Artificial Intelligence': 'AAAI',\n",
    "    'Design Automation Conference': 'DAC',\n",
    "}"
   ]
  },
  {
   "cell_type": "code",
   "execution_count": 174,
   "metadata": {},
   "outputs": [],
   "source": [
    "# insert bibtex string here\n",
    "bibtex_string=\"\"\" \n",
    "@misc{tan2023fmvit,\n",
    "      title={FMViT: A multiple-frequency mixing Vision Transformer}, \n",
    "      author={Wei Tan and Yifeng Geng and Xuansong Xie},\n",
    "      year={2023},\n",
    "      eprint={2311.05707},\n",
    "      archivePrefix={arXiv},\n",
    "      primaryClass={cs.CV}\n",
    "}\n",
    "\"\"\"\n",
    "\n",
    "# insert paper_url in here  \n",
    "paper_url = 'https://arxiv.org/abs/2311.05707.pdf'\n",
    "# insert github_url in here\n",
    "github_url = 'https://github.com/tany0699/FMViT'"
   ]
  },
  {
   "cell_type": "markdown",
   "metadata": {},
   "source": [
    "### Parse bibtex to dictionary format"
   ]
  },
  {
   "cell_type": "code",
   "execution_count": 175,
   "metadata": {},
   "outputs": [
    {
     "name": "stdout",
     "output_type": "stream",
     "text": [
      "BibliographyData(\n",
      "  entries=OrderedCaseInsensitiveDict([\n",
      "    ('tan2023fmvit', Entry('misc',\n",
      "      fields=[\n",
      "        ('title', 'FMViT: A multiple-frequency mixing Vision Transformer'), \n",
      "        ('year', '2023'), \n",
      "        ('eprint', '2311.05707'), \n",
      "        ('archivePrefix', 'arXiv'), \n",
      "        ('primaryClass', 'cs.CV')],\n",
      "      persons=OrderedCaseInsensitiveDict([('author', [Person('Tan, Wei'), Person('Geng, Yifeng'), Person('Xie, Xuansong')])])))]),\n",
      "\n",
      "  preamble=[])\n",
      "{'author': 'Wei. Tan, Yifeng. Geng, Xuansong. Xie, ',\n",
      " 'title': 'FMViT: A multiple-frequency mixing Vision Transformer',\n",
      " 'year': '2023'}\n"
     ]
    },
    {
     "name": "stderr",
     "output_type": "stream",
     "text": [
      "/home/pdh/.local/lib/python3.6/site-packages/ipykernel_launcher.py:20: DeprecationWarning: last() is deprecated since 0.19: use Person.last_names instead\n",
      "/home/pdh/.local/lib/python3.6/site-packages/ipykernel_launcher.py:23: DeprecationWarning: first() is deprecated since 0.19: use Person.first_names instead\n",
      "/home/pdh/.local/lib/python3.6/site-packages/ipykernel_launcher.py:23: DeprecationWarning: last() is deprecated since 0.19: use Person.last_names instead\n"
     ]
    }
   ],
   "source": [
    "parser = bibtex.Parser()\n",
    "bibdata = parser.parse_string(bibtex_string) # only one bibtex entry for generating markdown format\n",
    "print(bibdata)\n",
    "bib_dicts = {}\n",
    "for bib_id in bibdata.entries:\n",
    "    for bib_id in bibdata.entries:\n",
    "        b = bibdata.entries[bib_id].fields\n",
    "        for key in b.keys():\n",
    "            if key == \"author\":\n",
    "                bib_dicts[key] = b[key]\n",
    "            elif key == \"title\":\n",
    "                bib_dicts[key] = b[key]\n",
    "            elif key == \"year\":\n",
    "                bib_dicts[key] = b[key]    \n",
    "            elif key == 'booktitle' or key == 'journal':\n",
    "                bib_dicts[key] = b[key]\n",
    "        #deal with multiple authors\n",
    "        str_authors = \"\"\n",
    "        for author in bibdata.entries[bib_id].persons[\"author\"]:\n",
    "            if author.last()[0] == \"others\":\n",
    "                str_authors+=f\"{author.last()[0]}, \"\n",
    "            else:\n",
    "                str_authors+=f\"{author.first()[0]}. {author.last()[0]}, \"\n",
    "        bib_dicts[\"author\"] = str_authors\n",
    "  \n",
    "pprint(bib_dicts)"
   ]
  },
  {
   "cell_type": "markdown",
   "metadata": {},
   "source": [
    "### generate markdown format using dictionary (bib_dicts)\n",
    "\n",
    "### Ctrl+C Cell's output and Put it in readme.md according to the type."
   ]
  },
  {
   "cell_type": "code",
   "execution_count": 172,
   "metadata": {},
   "outputs": [
    {
     "name": "stdout",
     "output_type": "stream",
     "text": [
      "|[![Star](https://img.shields.io/github/stars/tany0699/FMViT.svg?style=social&label=Star)](https://github.com/tany0699/FMViT)<br>[FMViT: A multiple-frequency mixing Vision Transformer](https://arxiv.org/abs/2311.05707.pdf) <br> Wei. Tan, Yifeng. Geng, Xuansong. Xie,  |<img width=\"1002\" alt=\"image\" src=\"figures/.png\"> |[Github](https://github.com/tany0699/FMViT) <br> [Paper](https://arxiv.org/abs/2311.05707.pdf)|\n"
     ]
    }
   ],
   "source": [
    "bib_dicts['conference'] = ''\n",
    "for key in CONFERENCE_DICTS.keys():\n",
    "    try:\n",
    "        if key.lower() in bib_dicts['booktitle'].lower():\n",
    "            bib_dicts['conference'] = CONFERENCE_DICTS[key]\n",
    "            break\n",
    "        if CONFERENCE_DICTS[key] in bib_dicts['booktitle']:\n",
    "            bib_dicts['conference'] = CONFERENCE_DICTS[key]\n",
    "            break\n",
    "    except:\n",
    "        pass\n",
    "bib_dicts['conference']\n",
    "markdown_type = \"complex\" # complex or simple\n",
    "paper_name = bib_dicts['title']\n",
    "author_name = bib_dicts['author']\n",
    "image_path = 'figures/{}.png'.format('')\n",
    "conference = bib_dicts['conference']\n",
    "\n",
    "star_format = '[![Star](https://img.shields.io/github/stars/{}.svg?style=social&label=Star)](https://github.com/{})'\n",
    "conference_format = \"[![Publish](https://img.shields.io/badge/Conference-{}-blue)]()\"\n",
    "\n",
    "if markdown_type == 'simple':\n",
    "    final_str = \"* \"\n",
    "    if len(conference) > 0:\n",
    "        conference_item = conference_format.format(conference)\n",
    "        final_str += conference_item\n",
    "        final_str += \" \"\n",
    "    if len(github_url) > 0:\n",
    "        github_item = '/'.join(github_url.split('/')[-2:])\n",
    "        final_str += star_format.format(github_item, github_item)\n",
    "        final_str += \" \"\n",
    "    final_str += \"[{}]({}). {}. [[Paper]]({})\".format(paper_name, paper_url, author_name, paper_url)\n",
    "    if len(github_url) > 0:\n",
    "        final_str += \"[[Github]]({})\".format(github_url)\n",
    "    print(final_str)\n",
    "else:\n",
    "    main_item_format = '[{}]({}) <br> {} |'\n",
    "    image_format = '<img width=\"1002\" alt=\"image\" src=\"{}\"> |'\n",
    "    github_format = '[Github]({}) <br> '\n",
    "    paper_format = '[Paper]({})'\n",
    "    publish = 'https://img.shields.io/badge/Conference-{}-blue'.format(conference)\n",
    "\n",
    "    final_str = \"|\"\n",
    "    flag = True\n",
    "    if len(github_url) > 0:\n",
    "        github_item = '/'.join(github_url.split('/')[-2:])\n",
    "        final_str += star_format.format(github_item, github_item)\n",
    "        flag = True\n",
    "    if len(conference) > 0:\n",
    "        conference_item = conference_format.format(conference+'\\''+f'{bib_dicts[\"year\"][-2:]}')\n",
    "        final_str += conference_item\n",
    "        flag = True\n",
    "    if flag:\n",
    "        final_str += '<br>'\n",
    "\n",
    "    final_str += main_item_format.format(paper_name, paper_url, author_name)\n",
    "    final_str += image_format.format(image_path)\n",
    "\n",
    "    if len(github_url) > 0:\n",
    "        final_str += github_format.format(github_url)\n",
    "    final_str += paper_format.format(paper_url)\n",
    "\n",
    "    final_str += '|'\n",
    "    print(final_str)"
   ]
  },
  {
   "cell_type": "code",
   "execution_count": null,
   "metadata": {},
   "outputs": [],
   "source": []
  },
  {
   "cell_type": "code",
   "execution_count": null,
   "metadata": {},
   "outputs": [],
   "source": []
  }
 ],
 "metadata": {
  "kernelspec": {
   "display_name": "Python 3",
   "language": "python",
   "name": "python3"
  },
  "language_info": {
   "codemirror_mode": {
    "name": "ipython",
    "version": 3
   },
   "file_extension": ".py",
   "mimetype": "text/x-python",
   "name": "python",
   "nbconvert_exporter": "python",
   "pygments_lexer": "ipython3",
   "version": "3.6.9"
  }
 },
 "nbformat": 4,
 "nbformat_minor": 2
}
