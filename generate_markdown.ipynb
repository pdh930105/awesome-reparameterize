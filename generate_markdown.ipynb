{
 "cells": [
  {
   "cell_type": "code",
   "execution_count": 3,
   "metadata": {},
   "outputs": [
    {
     "name": "stdout",
     "output_type": "stream",
     "text": [
      "* [![Star](https://img.shields.io/github/stars/DingXiaoH/RepVGG.svg?style=social&label=Star)](https://github.com/DingXiaoH/RepVGG) [Repvgg: Making vgg-style convnets great again](https://arxiv.org/abs/2101.03697). Ding, Xiaohan and Zhang, Xiangyu and Ma, Ningning and Han, Jungong and Ding, Guiguang and Sun, Jian. [[Paper]](https://arxiv.org/abs/2101.03697)[[Github]](https://github.com/DingXiaoH/RepVGG)\n"
     ]
    }
   ],
   "source": [
    "\n",
    "markdown_type = \"simple\" # complex or simple\n",
    "    \n",
    "paper_name = ''\n",
    "paper_url = ''\n",
    "github_url = ''\n",
    "author_name = ''\n",
    "image_path = 'figures/{}.png'.format('')\n",
    "conference = \"\"\n",
    "\n",
    "paper_name = 'Repvgg: Making vgg-style convnets great again'\n",
    "paper_url = 'https://arxiv.org/abs/2101.03697'\n",
    "github_url = 'https://github.com/DingXiaoH/RepVGG'\n",
    "author_name = 'Ding, Xiaohan and Zhang, Xiangyu and Ma, Ningning and Han, Jungong and Ding, Guiguang and Sun, Jian'\n",
    "image_path = 'figures/{}.png'.format('')\n",
    "conference = \"\"\n",
    "\n",
    "star_format = '[![Star](https://img.shields.io/github/stars/{}.svg?style=social&label=Star)](https://github.com/{})'\n",
    "conference_format = \"[![Publish](https://img.shields.io/badge/Conference-{}-blue)]()\"\n",
    "\n",
    "if markdown_type == 'simple':\n",
    "    final_str = \"* \"\n",
    "    if len(conference) > 0:\n",
    "        conference_item = conference_format.format(conference)\n",
    "        final_str += conference_item\n",
    "        final_str += \" \"\n",
    "    if len(github_url) > 0:\n",
    "        github_item = '/'.join(github_url.split('/')[-2:])\n",
    "        final_str += star_format.format(github_item, github_item)\n",
    "        final_str += \" \"\n",
    "    final_str += \"[{}]({}). {}. [[Paper]]({})\".format(paper_name, paper_url, author_name, paper_url)\n",
    "    if len(github_url) > 0:\n",
    "        final_str += \"[[Github]]({})\".format(github_url)\n",
    "    print(final_str)\n",
    "else:\n",
    "    main_item_format = '[{}]({}) <br> {} |'\n",
    "    image_format = '<img width=\"1002\" alt=\"image\" src=\"{}\"> |'\n",
    "    github_format = '[Github]({}) <br> '\n",
    "    paper_format = '[Paper]({})'\n",
    "    publish = 'https://img.shields.io/badge/Conference-{}-blue'.format(conference)\n",
    "\n",
    "    final_str = \"|\"\n",
    "    flag = False\n",
    "    if len(github_url) > 0:\n",
    "        github_item = '/'.join(github_url.split('/')[-2:])\n",
    "        final_str += star_format.format(github_item, github_item)\n",
    "        flag = True\n",
    "    if len(conference) > 0:\n",
    "        conference_item = conference_format.format(conference)\n",
    "        final_str += conference_item\n",
    "        flag = True\n",
    "    if flag:\n",
    "        final_str += '<br>'\n",
    "\n",
    "    final_str += main_item_format.format(paper_name, paper_url, author_name)\n",
    "    final_str += image_format.format(image_path)\n",
    "\n",
    "    if len(github_url) > 0:\n",
    "        final_str += github_format.format(github_url)\n",
    "    final_str += paper_format.format(paper_url)\n",
    "\n",
    "    final_str += '|'\n",
    "    print(final_str)"
   ]
  },
  {
   "cell_type": "code",
   "execution_count": 2,
   "metadata": {},
   "outputs": [
    {
     "data": {
      "text/plain": [
       "'* [![Star](https://img.shields.io/github/stars/microsoft/DeepSpeed-MII.svg?style=social&label=Star)](https://github.com/microsoft/DeepSpeed-MII) [DeepSpeed-FastGen: High-throughput Text Generation for LLMs via MII and DeepSpeed-Inference](https://arxiv.org/abs/2401.08671). Connor Holmes, Masahiro Tanaka, Michael Wyatt, Ammar Ahmad Awan, Jeff Rasley, Samyam Rajbhandari, Reza Yazdani Aminabadi, Heyang Qin, Arash Bakhtiari, Lev Kurilenko, Yuxiong He. [[Paper]](https://arxiv.org/abs/2401.08671)[[Github]](https://github.com/microsoft/DeepSpeed-MII)'"
      ]
     },
     "execution_count": 2,
     "metadata": {},
     "output_type": "execute_result"
    }
   ],
   "source": [
    "str(final_str)"
   ]
  },
  {
   "cell_type": "markdown",
   "metadata": {},
   "source": [
    "* [![Star](https://img.shields.io/github/stars/microsoft/DeepSpeed-MII.svg?style=social&label=Star)](https://github.com/microsoft/DeepSpeed-MII) [DeepSpeed-FastGen: High-throughput Text Generation for LLMs via MII and DeepSpeed-Inference](https://arxiv.org/abs/2401.08671). Connor Holmes, Masahiro Tanaka, Michael Wyatt, Ammar Ahmad Awan, Jeff Rasley, Samyam Rajbhandari, Reza Yazdani Aminabadi, Heyang Qin, Arash Bakhtiari, Lev Kurilenko, Yuxiong He. [[Paper]](https://arxiv.org/abs/2401.08671)[[Github]](https://github.com/microsoft/DeepSpeed-MII)"
   ]
  },
  {
   "cell_type": "code",
   "execution_count": null,
   "metadata": {},
   "outputs": [],
   "source": []
  }
 ],
 "metadata": {
  "kernelspec": {
   "display_name": "Python 3",
   "language": "python",
   "name": "python3"
  },
  "language_info": {
   "codemirror_mode": {
    "name": "ipython",
    "version": 3
   },
   "file_extension": ".py",
   "mimetype": "text/x-python",
   "name": "python",
   "nbconvert_exporter": "python",
   "pygments_lexer": "ipython3",
   "version": "3.6.9"
  }
 },
 "nbformat": 4,
 "nbformat_minor": 2
}
